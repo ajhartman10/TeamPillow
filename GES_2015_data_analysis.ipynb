{
 "cells": [
  {
   "cell_type": "code",
   "execution_count": 10,
   "metadata": {},
   "outputs": [],
   "source": [
    "import pandas as pd\n",
    "import numpy as np\n",
    "import matplotlib.pyplot as plt\n",
    "import matplotlib.patches as mpatches"
   ]
  },
  {
   "cell_type": "markdown",
   "metadata": {},
   "source": [
    "# Importing General Estimates System Data"
   ]
  },
  {
   "cell_type": "code",
   "execution_count": 11,
   "metadata": {},
   "outputs": [
    {
     "data": {
      "text/html": [
       "<div>\n",
       "<style scoped>\n",
       "    .dataframe tbody tr th:only-of-type {\n",
       "        vertical-align: middle;\n",
       "    }\n",
       "\n",
       "    .dataframe tbody tr th {\n",
       "        vertical-align: top;\n",
       "    }\n",
       "\n",
       "    .dataframe thead th {\n",
       "        text-align: right;\n",
       "    }\n",
       "</style>\n",
       "<table border=\"1\" class=\"dataframe\">\n",
       "  <thead>\n",
       "    <tr style=\"text-align: right;\">\n",
       "      <th></th>\n",
       "      <th>CASENUM</th>\n",
       "      <th>LAND_USE</th>\n",
       "      <th>REGION</th>\n",
       "      <th>STRATUM</th>\n",
       "      <th>PJ</th>\n",
       "      <th>PSU</th>\n",
       "      <th>PSUSTRAT</th>\n",
       "      <th>VE_TOTAL</th>\n",
       "      <th>VE_FORMS</th>\n",
       "      <th>PVH_INVL</th>\n",
       "      <th>...</th>\n",
       "      <th>MINUTE_IM</th>\n",
       "      <th>EVENT1_IM</th>\n",
       "      <th>MANCOL_IM</th>\n",
       "      <th>RELJCT1_IM</th>\n",
       "      <th>RELJCT2_IM</th>\n",
       "      <th>LGTCON_IM</th>\n",
       "      <th>WEATHR_IM</th>\n",
       "      <th>MAXSEV_IM</th>\n",
       "      <th>NO_INJ_IM</th>\n",
       "      <th>ALCHL_IM</th>\n",
       "    </tr>\n",
       "  </thead>\n",
       "  <tbody>\n",
       "    <tr>\n",
       "      <th>0</th>\n",
       "      <td>201510443751</td>\n",
       "      <td>1</td>\n",
       "      <td>1</td>\n",
       "      <td>4</td>\n",
       "      <td>3</td>\n",
       "      <td>2</td>\n",
       "      <td>3</td>\n",
       "      <td>1</td>\n",
       "      <td>1</td>\n",
       "      <td>0</td>\n",
       "      <td>...</td>\n",
       "      <td>57</td>\n",
       "      <td>59</td>\n",
       "      <td>0</td>\n",
       "      <td>0</td>\n",
       "      <td>1</td>\n",
       "      <td>1</td>\n",
       "      <td>4</td>\n",
       "      <td>0</td>\n",
       "      <td>0</td>\n",
       "      <td>2</td>\n",
       "    </tr>\n",
       "    <tr>\n",
       "      <th>1</th>\n",
       "      <td>201510443757</td>\n",
       "      <td>8</td>\n",
       "      <td>1</td>\n",
       "      <td>6</td>\n",
       "      <td>4</td>\n",
       "      <td>2</td>\n",
       "      <td>3</td>\n",
       "      <td>1</td>\n",
       "      <td>1</td>\n",
       "      <td>0</td>\n",
       "      <td>...</td>\n",
       "      <td>4</td>\n",
       "      <td>1</td>\n",
       "      <td>0</td>\n",
       "      <td>0</td>\n",
       "      <td>1</td>\n",
       "      <td>1</td>\n",
       "      <td>4</td>\n",
       "      <td>0</td>\n",
       "      <td>0</td>\n",
       "      <td>2</td>\n",
       "    </tr>\n",
       "    <tr>\n",
       "      <th>2</th>\n",
       "      <td>201510443760</td>\n",
       "      <td>8</td>\n",
       "      <td>1</td>\n",
       "      <td>4</td>\n",
       "      <td>4</td>\n",
       "      <td>2</td>\n",
       "      <td>3</td>\n",
       "      <td>2</td>\n",
       "      <td>2</td>\n",
       "      <td>0</td>\n",
       "      <td>...</td>\n",
       "      <td>3</td>\n",
       "      <td>12</td>\n",
       "      <td>1</td>\n",
       "      <td>0</td>\n",
       "      <td>3</td>\n",
       "      <td>1</td>\n",
       "      <td>1</td>\n",
       "      <td>0</td>\n",
       "      <td>0</td>\n",
       "      <td>2</td>\n",
       "    </tr>\n",
       "    <tr>\n",
       "      <th>3</th>\n",
       "      <td>201510443763</td>\n",
       "      <td>1</td>\n",
       "      <td>1</td>\n",
       "      <td>4</td>\n",
       "      <td>10</td>\n",
       "      <td>2</td>\n",
       "      <td>3</td>\n",
       "      <td>2</td>\n",
       "      <td>2</td>\n",
       "      <td>0</td>\n",
       "      <td>...</td>\n",
       "      <td>51</td>\n",
       "      <td>12</td>\n",
       "      <td>1</td>\n",
       "      <td>0</td>\n",
       "      <td>3</td>\n",
       "      <td>1</td>\n",
       "      <td>4</td>\n",
       "      <td>0</td>\n",
       "      <td>0</td>\n",
       "      <td>2</td>\n",
       "    </tr>\n",
       "    <tr>\n",
       "      <th>4</th>\n",
       "      <td>201510443802</td>\n",
       "      <td>1</td>\n",
       "      <td>1</td>\n",
       "      <td>4</td>\n",
       "      <td>2</td>\n",
       "      <td>2</td>\n",
       "      <td>3</td>\n",
       "      <td>1</td>\n",
       "      <td>1</td>\n",
       "      <td>0</td>\n",
       "      <td>...</td>\n",
       "      <td>30</td>\n",
       "      <td>30</td>\n",
       "      <td>0</td>\n",
       "      <td>0</td>\n",
       "      <td>1</td>\n",
       "      <td>1</td>\n",
       "      <td>4</td>\n",
       "      <td>0</td>\n",
       "      <td>0</td>\n",
       "      <td>2</td>\n",
       "    </tr>\n",
       "  </tbody>\n",
       "</table>\n",
       "<p>5 rows × 50 columns</p>\n",
       "</div>"
      ],
      "text/plain": [
       "        CASENUM  LAND_USE  REGION  STRATUM  PJ  PSU  PSUSTRAT  VE_TOTAL  \\\n",
       "0  201510443751         1       1        4   3    2         3         1   \n",
       "1  201510443757         8       1        6   4    2         3         1   \n",
       "2  201510443760         8       1        4   4    2         3         2   \n",
       "3  201510443763         1       1        4  10    2         3         2   \n",
       "4  201510443802         1       1        4   2    2         3         1   \n",
       "\n",
       "   VE_FORMS  PVH_INVL    ...     MINUTE_IM  EVENT1_IM  MANCOL_IM  RELJCT1_IM  \\\n",
       "0         1         0    ...            57         59          0           0   \n",
       "1         1         0    ...             4          1          0           0   \n",
       "2         2         0    ...             3         12          1           0   \n",
       "3         2         0    ...            51         12          1           0   \n",
       "4         1         0    ...            30         30          0           0   \n",
       "\n",
       "   RELJCT2_IM  LGTCON_IM  WEATHR_IM  MAXSEV_IM  NO_INJ_IM  ALCHL_IM  \n",
       "0           1          1          4          0          0         2  \n",
       "1           1          1          4          0          0         2  \n",
       "2           3          1          1          0          0         2  \n",
       "3           3          1          4          0          0         2  \n",
       "4           1          1          4          0          0         2  \n",
       "\n",
       "[5 rows x 50 columns]"
      ]
     },
     "execution_count": 11,
     "metadata": {},
     "output_type": "execute_result"
    }
   ],
   "source": [
    "df = pd.read_csv('GES2015csv/accident.csv', low_memory=False)\n",
    "df.head()"
   ]
  },
  {
   "cell_type": "markdown",
   "metadata": {},
   "source": [
    "## Is weather a factor in traffic accidents more often than not?"
   ]
  },
  {
   "cell_type": "code",
   "execution_count": 12,
   "metadata": {},
   "outputs": [
    {
     "data": {
      "text/html": [
       "<div>\n",
       "<style scoped>\n",
       "    .dataframe tbody tr th:only-of-type {\n",
       "        vertical-align: middle;\n",
       "    }\n",
       "\n",
       "    .dataframe tbody tr th {\n",
       "        vertical-align: top;\n",
       "    }\n",
       "\n",
       "    .dataframe thead th {\n",
       "        text-align: right;\n",
       "    }\n",
       "</style>\n",
       "<table border=\"1\" class=\"dataframe\">\n",
       "  <thead>\n",
       "    <tr style=\"text-align: right;\">\n",
       "      <th></th>\n",
       "      <th>Condition</th>\n",
       "      <th>count</th>\n",
       "    </tr>\n",
       "  </thead>\n",
       "  <tbody>\n",
       "    <tr>\n",
       "      <th>0</th>\n",
       "      <td>Clear</td>\n",
       "      <td>38639</td>\n",
       "    </tr>\n",
       "    <tr>\n",
       "      <th>1</th>\n",
       "      <td>Cloudy</td>\n",
       "      <td>10082</td>\n",
       "    </tr>\n",
       "    <tr>\n",
       "      <th>2</th>\n",
       "      <td>Rainy</td>\n",
       "      <td>5726</td>\n",
       "    </tr>\n",
       "    <tr>\n",
       "      <th>3</th>\n",
       "      <td>Snowy</td>\n",
       "      <td>1393</td>\n",
       "    </tr>\n",
       "    <tr>\n",
       "      <th>4</th>\n",
       "      <td>Other</td>\n",
       "      <td>1238</td>\n",
       "    </tr>\n",
       "  </tbody>\n",
       "</table>\n",
       "</div>"
      ],
      "text/plain": [
       "  Condition  count\n",
       "0     Clear  38639\n",
       "1    Cloudy  10082\n",
       "2     Rainy   5726\n",
       "3     Snowy   1393\n",
       "4     Other   1238"
      ]
     },
     "execution_count": 12,
     "metadata": {},
     "output_type": "execute_result"
    }
   ],
   "source": [
    "di = {1: 'Clear',\n",
    "        2: 'Rainy',\n",
    "        3: 'Other',\n",
    "        4: 'Snowy',\n",
    "        5: 'Other',\n",
    "        6: 'Other',\n",
    "        7: 'Other',\n",
    "        8: 'Other',\n",
    "        10: 'Cloudy',\n",
    "        11: 'Snowy',\n",
    "        12: 'Other',\n",
    "        98: 'Other',\n",
    "        99: 'Other'\n",
    "}\n",
    "\n",
    "df = df['WEATHER'].map(di) \n",
    "weather_conditions = df.value_counts().reset_index() #.rename_axis('condition_type').to_frame('# of Accidents')\n",
    "weather_conditions.columns = ['Condition', 'count']\n",
    "\n",
    "weather_conditions.head()"
   ]
  },
  {
   "cell_type": "code",
   "execution_count": 13,
   "metadata": {},
   "outputs": [
    {
     "data": {
      "image/png": "[encoded data removed]",
      "text/plain": [
       "<Figure size 432x288 with 1 Axes>"
      ]
     },
     "metadata": {},
     "output_type": "display_data"
    }
   ],
   "source": [
    "clrs = ['#b0e0e6','#b3cde0','#609fe5','#d5d8d1','#a59e99']\n",
    "explode = (0.05, 0.01, 0.01, 0.05, 0.05)\n",
    "\n",
    "fig1, ax1 = plt.subplots()\n",
    "\n",
    "patches, texts, autotexts = ax1.pie(weather_conditions['count'],\n",
    "        explode = explode,\n",
    "        labels = weather_conditions['Condition'],\n",
    "        colors = clrs,\n",
    "        autopct = '%1.1f%%',\n",
    "        pctdistance = 0.85,\n",
    "        labeldistance = 1.1,\n",
    "        startangle = 25,\n",
    "        radius = 0.9,\n",
    "        textprops={'size': 'smaller',\n",
    "                'fontname': 'monospace',\n",
    "                'fontstyle': 'italic'},\n",
    "       )\n",
    "\n",
    "ax1.axis('equal')  # Equal aspect ratio ensures that pie is drawn as a circle.\n",
    "\n",
    "plt.setp(autotexts, size='x-small')\n",
    "plt.setp(texts, fontname='serif')\n",
    "plt.title('Weather Conditions at Time of Accident')\n",
    "\n",
    "plt.show()"
   ]
  },
  {
   "cell_type": "markdown",
   "metadata": {},
   "source": [
    "### Weather is not a factor for over two-thirds of traffic accidents."
   ]
  },
  {
   "cell_type": "markdown",
   "metadata": {},
   "source": [
    "## Are traffic accidents more likely to occur in 4-way stop intersections?"
   ]
  },
  {
   "cell_type": "code",
   "execution_count": 16,
   "metadata": {},
   "outputs": [
    {
     "data": {
      "text/html": [
       "<div>\n",
       "<style scoped>\n",
       "    .dataframe tbody tr th:only-of-type {\n",
       "        vertical-align: middle;\n",
       "    }\n",
       "\n",
       "    .dataframe tbody tr th {\n",
       "        vertical-align: top;\n",
       "    }\n",
       "\n",
       "    .dataframe thead th {\n",
       "        text-align: right;\n",
       "    }\n",
       "</style>\n",
       "<table border=\"1\" class=\"dataframe\">\n",
       "  <thead>\n",
       "    <tr style=\"text-align: right;\">\n",
       "      <th></th>\n",
       "      <th>intersection</th>\n",
       "      <th>count</th>\n",
       "    </tr>\n",
       "  </thead>\n",
       "  <tbody>\n",
       "    <tr>\n",
       "      <th>0</th>\n",
       "      <td>No Intersection</td>\n",
       "      <td>32458</td>\n",
       "    </tr>\n",
       "    <tr>\n",
       "      <th>1</th>\n",
       "      <td>Four-Way</td>\n",
       "      <td>14298</td>\n",
       "    </tr>\n",
       "    <tr>\n",
       "      <th>2</th>\n",
       "      <td>T-Intersection</td>\n",
       "      <td>5759</td>\n",
       "    </tr>\n",
       "    <tr>\n",
       "      <th>3</th>\n",
       "      <td>Other</td>\n",
       "      <td>4425</td>\n",
       "    </tr>\n",
       "    <tr>\n",
       "      <th>4</th>\n",
       "      <td>Roundabout</td>\n",
       "      <td>138</td>\n",
       "    </tr>\n",
       "  </tbody>\n",
       "</table>\n",
       "</div>"
      ],
      "text/plain": [
       "      intersection  count\n",
       "0  No Intersection  32458\n",
       "1         Four-Way  14298\n",
       "2   T-Intersection   5759\n",
       "3            Other   4425\n",
       "4       Roundabout    138"
      ]
     },
     "execution_count": 16,
     "metadata": {},
     "output_type": "execute_result"
    }
   ],
   "source": [
    "df = pd.read_csv('GES2015csv/accident.csv', low_memory=False)\n",
    "\n",
    "di = {1: 'No Intersection',\n",
    "        2: 'Four-Way',\n",
    "        3: 'T-Intersection',\n",
    "        4: 'Other',\n",
    "        5: 'Roundabout',\n",
    "        6: 'Roundabout',\n",
    "        7: 'Other',\n",
    "        10: 'Other',\n",
    "        98: 'Other',\n",
    "        99: 'Other'\n",
    "}\n",
    "\n",
    "df = df['TYP_INT'].map(di) \n",
    "intersection_type = df.value_counts().reset_index()\n",
    "intersection_type.columns = ['intersection', 'count']\n",
    "\n",
    "intersection_type.head()"
   ]
  },
  {
   "cell_type": "code",
   "execution_count": 17,
   "metadata": {},
   "outputs": [
    {
     "data": {
      "image/png": "[encoded data removed]",
      "text/plain": [
       "<Figure size 432x288 with 1 Axes>"
      ]
     },
     "metadata": {},
     "output_type": "display_data"
    }
   ],
   "source": [
    "clrs = ['#b0e0e6','#b3cde0','#609fe5','#d5d8d1','#a59e99']\n",
    "explode = (0.05, 0.01, 0.01, 0.05, 0.05)\n",
    "\n",
    "fig1, ax1 = plt.subplots()\n",
    "\n",
    "patches, texts, autotexts = ax1.pie(intersection_type['count'],\n",
    "        explode = explode,\n",
    "        labels = intersection_type['intersection'],\n",
    "        colors = clrs,\n",
    "        autopct = '%1.1f%%',\n",
    "        pctdistance = 0.85,\n",
    "        labeldistance = 1.1,\n",
    "        startangle = 25,\n",
    "        radius = 0.9,\n",
    "        textprops={'size': 'smaller',\n",
    "                'fontname': 'monospace',\n",
    "                'fontstyle': 'italic'},\n",
    "       )\n",
    "\n",
    "ax1.axis('equal')  # Equal aspect ratio ensures that pie is drawn as a circle.\n",
    "\n",
    "plt.setp(autotexts, size='x-small')\n",
    "plt.setp(texts, fontname='serif')\n",
    "\n",
    "plt.title('Intersection Type')\n",
    "plt.show()"
   ]
  },
  {
   "cell_type": "markdown",
   "metadata": {},
   "source": [
    "### Over half of all accidents occur in a location where there is no intersection."
   ]
  },
  {
   "cell_type": "markdown",
   "metadata": {},
   "source": [
    "## Are there more accidents during winter months or summer months?"
   ]
  },
  {
   "cell_type": "code",
   "execution_count": 18,
   "metadata": {},
   "outputs": [
    {
     "data": {
      "text/html": [
       "<div>\n",
       "<style scoped>\n",
       "    .dataframe tbody tr th:only-of-type {\n",
       "        vertical-align: middle;\n",
       "    }\n",
       "\n",
       "    .dataframe tbody tr th {\n",
       "        vertical-align: top;\n",
       "    }\n",
       "\n",
       "    .dataframe thead th {\n",
       "        text-align: right;\n",
       "    }\n",
       "</style>\n",
       "<table border=\"1\" class=\"dataframe\">\n",
       "  <thead>\n",
       "    <tr style=\"text-align: right;\">\n",
       "      <th></th>\n",
       "      <th>month</th>\n",
       "      <th>count</th>\n",
       "    </tr>\n",
       "  </thead>\n",
       "  <tbody>\n",
       "    <tr>\n",
       "      <th>3</th>\n",
       "      <td>January</td>\n",
       "      <td>4949</td>\n",
       "    </tr>\n",
       "    <tr>\n",
       "      <th>10</th>\n",
       "      <td>February</td>\n",
       "      <td>4415</td>\n",
       "    </tr>\n",
       "    <tr>\n",
       "      <th>8</th>\n",
       "      <td>March</td>\n",
       "      <td>4564</td>\n",
       "    </tr>\n",
       "    <tr>\n",
       "      <th>11</th>\n",
       "      <td>April</td>\n",
       "      <td>4381</td>\n",
       "    </tr>\n",
       "    <tr>\n",
       "      <th>6</th>\n",
       "      <td>May</td>\n",
       "      <td>4707</td>\n",
       "    </tr>\n",
       "  </tbody>\n",
       "</table>\n",
       "</div>"
      ],
      "text/plain": [
       "       month  count\n",
       "3    January   4949\n",
       "10  February   4415\n",
       "8      March   4564\n",
       "11     April   4381\n",
       "6        May   4707"
      ]
     },
     "execution_count": 18,
     "metadata": {},
     "output_type": "execute_result"
    }
   ],
   "source": [
    "df = pd.read_csv('GES2015csv/accident.csv', low_memory=False)\n",
    "di = {1: 'January',\n",
    "        2: 'February',\n",
    "        3: 'March',\n",
    "        4: 'April',\n",
    "        5: 'May',\n",
    "        6: 'June',\n",
    "        7: 'July',\n",
    "        8: 'August',\n",
    "        9: 'September',\n",
    "        10: 'October',\n",
    "        11: 'November',\n",
    "        12: 'December'\n",
    "}\n",
    "crash_byMonth = df['MONTH'].value_counts().reset_index().sort_values(by=['index'])\n",
    "crash_byMonth.columns = ['month','count']\n",
    "crash_byMonth.sort_values(by=['month'])\n",
    "crash_byMonth['month'] = crash_byMonth['month'].map(di)\n",
    "\n",
    "crash_byMonth.head()"
   ]
  },
  {
   "cell_type": "code",
   "execution_count": 21,
   "metadata": {},
   "outputs": [
    {
     "data": {
      "image/png": "[encoded data removed]",
      "text/plain": [
       "<Figure size 432x288 with 1 Axes>"
      ]
     },
     "metadata": {
      "needs_background": "light"
     },
     "output_type": "display_data"
    }
   ],
   "source": [
    "# set bar parameters\n",
    "n_bars = 12\n",
    "fig, ax = plt.subplots()\n",
    "x_pos = np.arange(n_bars)\n",
    "bar_width = 0.95\n",
    "opacity = 1.0\n",
    "\n",
    "# set color list\n",
    "clrs = ['#000080','#000080','#000080','#cc0000','#cc0000','#cc0000',\n",
    "        '#cc0000','#cc0000','#cc0000','#cc0000','#000080','#000080']\n",
    "\n",
    "# build list of bars to chart\n",
    "barlist = plt.bar(x_pos, crash_byMonth['count'], bar_width,\n",
    "                 alpha=opacity,\n",
    "                 color=clrs)\n",
    "\n",
    "#  set chart title & lables \n",
    "plt.xlabel('Month', labelpad=15, fontsize='small')\n",
    "plt.ylabel('# of Accidents', labelpad=15, fontsize='small')\n",
    "plt.title('Accident Frequency by Month', pad=20, fontsize='large')\n",
    "\n",
    "# set x-axis tick marks\n",
    "plt.xticks(x_pos - 0.45,\n",
    "                ('January','February','March','April','May','June',\n",
    "                'July','August','September','October','November','December'),\n",
    "                rotation=90,\n",
    "                fontsize='x-small')\n",
    "\n",
    "# plot\n",
    "plt.tight_layout()\n",
    "plt.show()"
   ]
  },
  {
   "cell_type": "markdown",
   "metadata": {},
   "source": [
    "### The number of accidents does not vary significantly by month."
   ]
  },
  {
   "cell_type": "markdown",
   "metadata": {},
   "source": [
    "## Are accidents more likely to occur on the weekends?"
   ]
  },
  {
   "cell_type": "code",
   "execution_count": 22,
   "metadata": {},
   "outputs": [
    {
     "data": {
      "text/html": [
       "<div>\n",
       "<style scoped>\n",
       "    .dataframe tbody tr th:only-of-type {\n",
       "        vertical-align: middle;\n",
       "    }\n",
       "\n",
       "    .dataframe tbody tr th {\n",
       "        vertical-align: top;\n",
       "    }\n",
       "\n",
       "    .dataframe thead th {\n",
       "        text-align: right;\n",
       "    }\n",
       "</style>\n",
       "<table border=\"1\" class=\"dataframe\">\n",
       "  <thead>\n",
       "    <tr style=\"text-align: right;\">\n",
       "      <th></th>\n",
       "      <th>day</th>\n",
       "      <th>count</th>\n",
       "    </tr>\n",
       "  </thead>\n",
       "  <tbody>\n",
       "    <tr>\n",
       "      <th>6</th>\n",
       "      <td>Sunday</td>\n",
       "      <td>6284</td>\n",
       "    </tr>\n",
       "    <tr>\n",
       "      <th>4</th>\n",
       "      <td>Monday</td>\n",
       "      <td>8330</td>\n",
       "    </tr>\n",
       "    <tr>\n",
       "      <th>2</th>\n",
       "      <td>Tuesday</td>\n",
       "      <td>8556</td>\n",
       "    </tr>\n",
       "    <tr>\n",
       "      <th>3</th>\n",
       "      <td>Wednesday</td>\n",
       "      <td>8465</td>\n",
       "    </tr>\n",
       "    <tr>\n",
       "      <th>1</th>\n",
       "      <td>Thursday</td>\n",
       "      <td>8703</td>\n",
       "    </tr>\n",
       "  </tbody>\n",
       "</table>\n",
       "</div>"
      ],
      "text/plain": [
       "         day  count\n",
       "6     Sunday   6284\n",
       "4     Monday   8330\n",
       "2    Tuesday   8556\n",
       "3  Wednesday   8465\n",
       "1   Thursday   8703"
      ]
     },
     "execution_count": 22,
     "metadata": {},
     "output_type": "execute_result"
    }
   ],
   "source": [
    "df = pd.read_csv('GES2015csv/accident.csv', low_memory=False)\n",
    "di = {1: 'Sunday',\n",
    "        2: 'Monday',\n",
    "        3: 'Tuesday',\n",
    "        4: 'Wednesday',\n",
    "        5: 'Thursday',\n",
    "        6: 'Friday',\n",
    "        7: 'Saturday'\n",
    "}\n",
    "\n",
    "crash_byDay = df['WKDY_IM'].value_counts().reset_index().sort_values(by=['index'])\n",
    "crash_byDay.columns = ['day','count']\n",
    "crash_byDay.sort_values(by=['day'])\n",
    "crash_byDay['day'] = crash_byDay['day'].map(di)\n",
    "\n",
    "crash_byDay.head()"
   ]
  },
  {
   "cell_type": "code",
   "execution_count": 23,
   "metadata": {},
   "outputs": [
    {
     "data": {
      "image/png": "[encoded data removed]",
      "text/plain": [
       "<Figure size 432x288 with 1 Axes>"
      ]
     },
     "metadata": {
      "needs_background": "light"
     },
     "output_type": "display_data"
    }
   ],
   "source": [
    "# set bar parameters\n",
    "n_bars = 7\n",
    "fig, ax = plt.subplots()\n",
    "x_pos = np.arange(n_bars)\n",
    "bar_width = 0.95\n",
    "opacity = 1.0\n",
    "\n",
    "# set color list\n",
    "clrs = ['#5aee0f','#000080','#000080','#000080','#000080','#cc0000','#5aee0f']\n",
    "\n",
    "# build list of bars to chart\n",
    "barlist = plt.bar(x_pos, crash_byDay['count'], bar_width,\n",
    "                 alpha=opacity,\n",
    "                 color=clrs)\n",
    "\n",
    "#  set chart title & lables \n",
    "plt.xlabel('Weekday', labelpad=15, fontsize='small')\n",
    "plt.ylabel('# of Accidents', labelpad=15, fontsize='small')\n",
    "plt.title('Accident Frequency by Day of Week', pad=20, fontsize='large')\n",
    "\n",
    "# set x-axis tick marks\n",
    "plt.xticks(x_pos - 0.45,\n",
    "                ('Sunday','Monday','Tuesday','Wednesday','Thursday','Friday','Saturday'),\n",
    "                rotation=90,\n",
    "                fontsize='x-small')\n",
    "\n",
    "# plot\n",
    "plt.tight_layout()\n",
    "plt.show()"
   ]
  },
  {
   "cell_type": "markdown",
   "metadata": {},
   "source": [
    "### Accidents occur more often during the week. Fridays have more accidents, weekends have less."
   ]
  },
  {
   "cell_type": "markdown",
   "metadata": {},
   "source": [
    "## Are accidents more likely to occur during rush hours?"
   ]
  },
  {
   "cell_type": "code",
   "execution_count": 24,
   "metadata": {},
   "outputs": [
    {
     "data": {
      "text/plain": [
       "0    1078\n",
       "1     951\n",
       "2     903\n",
       "3     709\n",
       "4     600\n",
       "Name: HOUR_IM, dtype: int64"
      ]
     },
     "execution_count": 24,
     "metadata": {},
     "output_type": "execute_result"
    }
   ],
   "source": [
    "df = pd.read_csv('GES2015csv/accident.csv', low_memory=False)\n",
    "crash_hr = df['HOUR_IM']\n",
    "\n",
    "# sort accident frequency by hour\n",
    "by_hour = crash_hr.value_counts().sort_index(axis=0)\n",
    "\n",
    "by_hour.head()"
   ]
  },
  {
   "cell_type": "code",
   "execution_count": 25,
   "metadata": {},
   "outputs": [
    {
     "data": {
      "image/png": "[encoded data removed]",
      "text/plain": [
       "<Figure size 432x288 with 1 Axes>"
      ]
     },
     "metadata": {
      "needs_background": "light"
     },
     "output_type": "display_data"
    }
   ],
   "source": [
    "# set bar parameters\n",
    "n_bars = 24\n",
    "fig, ax = plt.subplots()\n",
    "x_pos = np.arange(n_bars)\n",
    "bar_width = 0.95\n",
    "opacity = 1.0\n",
    "\n",
    "# set color list\n",
    "clrs = ['#000080','#000080','#000080','#000080','#000080','#000080',\n",
    "        '#cc0000','#cc0000','#cc0000', # highlight AM rush hour\n",
    "        '#000080','#000080','#000080','#000080','#000080','#000080',\n",
    "        '#cc0000','#cc0000','#cc0000','#cc0000', # highlight PM rush hour\n",
    "        '#000080','#000080','#000080','#000080','#000080']\n",
    "\n",
    "# build list of bars to chart\n",
    "barlist = plt.bar(x_pos, by_hour, bar_width,\n",
    "                 alpha=opacity,\n",
    "                 color=clrs)\n",
    "\n",
    "#  set chart title & lables \n",
    "plt.xlabel('Time of Day', labelpad=15, fontsize='small')\n",
    "plt.ylabel('# of Accidents', labelpad=15, fontsize='small')\n",
    "plt.title('Accident Frequency by Hour of Day', pad=20, fontsize='large')\n",
    "\n",
    "# set x-axis tick marks\n",
    "plt.xticks(x_pos - 0.45,\n",
    "                ('12am', '1am', '2am', '3am','4am', '5am',\n",
    "                '6am', '7am','8am', '9am', '10am', '11am',\n",
    "                '12pm', '1pm', '2pm', '3pm','4pm', '5pm',\n",
    "                '6pm', '7pm','8pm', '9pm', '10pm', '11pm','12am'),\n",
    "                rotation=90,\n",
    "                fontsize='x-small')\n",
    "\n",
    "# build legend\n",
    "rush_hours = mpatches.Patch(color='#cc0000', label='Rush Hours')\n",
    "plt.legend(handles=[rush_hours], fontsize='x-small')\n",
    "\n",
    "# plot\n",
    "plt.tight_layout()\n",
    "plt.show()"
   ]
  },
  {
   "cell_type": "markdown",
   "metadata": {},
   "source": [
    "### The frequency of accidents spikes during rush hours, especially the PM rush hour."
   ]
  },
  {
   "cell_type": "code",
   "execution_count": null,
   "metadata": {},
   "outputs": [],
   "source": []
  }
 ],
 "metadata": {
  "kernelspec": {
   "display_name": "Python 3",
   "language": "python",
   "name": "python3"
  },
  "language_info": {
   "codemirror_mode": {
    "name": "ipython",
    "version": 3
   },
   "file_extension": ".py",
   "mimetype": "text/x-python",
   "name": "python",
   "nbconvert_exporter": "python",
   "pygments_lexer": "ipython3",
   "version": "3.7.0"
  }
 },
 "nbformat": 4,
 "nbformat_minor": 2
}
